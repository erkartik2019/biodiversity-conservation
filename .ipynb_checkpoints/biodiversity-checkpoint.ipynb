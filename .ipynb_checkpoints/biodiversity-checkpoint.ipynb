{
 "cells": [
  {
   "cell_type": "markdown",
   "metadata": {},
   "source": [
    "# Introduction\n",
    "\n",
    "This project aims to analyze biodiversity data from the National Parks Service, focusing on various species observed in different national park locations.\r\n",
    "\r\n",
    "The project will encompass scoping, analyzing, preparing, plotting the data, and seeking explanations from the analysis.\r\n",
    "\r\n",
    "Here are some key questions this project seeks to answe * r:\r\n",
    "\r\n",
    "What is the distribution of conservation status for sp\n",
    " * cies?\r\n",
    "Are certain types of species more likely to be enda\n",
    " * gered?\r\n",
    "Are the differences between species and their conservation status statistically sign\n",
    " * ficant?\r\n",
    "Which animal is most prevalent and what is its distribution amongs\n",
    "t parks?\r\n",
    "Data sour s:\r\n",
    "\r\n",
    "Both Observations.csv and Species_info.csv were provided by Codecademy.com.\r\n",
    "\r\n",
    "Note: The data for this project is inspired by real data, but is mostly fictional. "
   ]
  },
  {
   "cell_type": "markdown",
   "metadata": {},
   "source": [
    "## Project Overview\n",
    "\n",
    "The primary goal of this project is to analyze biodiversity conservation efforts within the U.S. National Parks by leveraging data on endangered species and their recorded sightings. \n",
    "\n",
    "### Project Objectives\n",
    "\n",
    "* Analyze Conservation Statuses: Examine patterns in the types of species that are more likely to have endangered, threatened, or other conservation statuses.\n",
    "* Identify Trends and Themes: Investigate whether specific categories of species (e.g., mammals, birds, plants) are more prone to endangerment.\n",
    "* Evaluate Park-Level Observations: Use the observations dataset to determine which national parks are encountering these species most frequently and assess whether there are geographical patterns.\n",
    "* Generate Insights for Conservation Efforts: Provide actionable insights into biodiversity trends that can inform conservation efforts and policy-making."
   ]
  },
  {
   "cell_type": "markdown",
   "metadata": {},
   "source": [
    "## Importing Python Modules\n",
    "\n",
    "Importing the python modules to start off the project:"
   ]
  },
  {
   "cell_type": "code",
   "execution_count": 2,
   "metadata": {},
   "outputs": [],
   "source": [
    "import pandas as pd\n",
    "import numpy as np\n",
    "import matplotlib.pyplot as plot\n",
    "import seaborn as sns"
   ]
  },
  {
   "cell_type": "markdown",
   "metadata": {},
   "source": [
    "## Loading the Data\n",
    "\n",
    "To analyze the conservation status of species and their observations in national parks, we will first load the datasets (two tables) into `DataFrames` called `observations` and `species`.\n",
    "\n",
    "Once loaded as DataFrames, datasets can be used for exploration and visualization."
   ]
  },
  {
   "cell_type": "code",
   "execution_count": 4,
   "metadata": {},
   "outputs": [
    {
     "name": "stdout",
     "output_type": "stream",
     "text": [
      "  category                scientific_name  \\\n",
      "0   Mammal  Clethrionomys gapperi gapperi   \n",
      "1   Mammal                      Bos bison   \n",
      "2   Mammal                     Bos taurus   \n",
      "3   Mammal                     Ovis aries   \n",
      "4   Mammal                 Cervus elaphus   \n",
      "\n",
      "                                        common_names conservation_status  \n",
      "0                           Gapper's Red-Backed Vole                 NaN  \n",
      "1                              American Bison, Bison                 NaN  \n",
      "2  Aurochs, Aurochs, Domestic Cattle (Feral), Dom...                 NaN  \n",
      "3  Domestic Sheep, Mouflon, Red Sheep, Sheep (Feral)                 NaN  \n",
      "4                                      Wapiti Or Elk                 NaN  \n",
      "            scientific_name                            park_name  observations\n",
      "0        Vicia benghalensis  Great Smoky Mountains National Park            68\n",
      "1            Neovison vison  Great Smoky Mountains National Park            77\n",
      "2         Prunus subcordata               Yosemite National Park           138\n",
      "3      Abutilon theophrasti                  Bryce National Park            84\n",
      "4  Githopsis specularioides  Great Smoky Mountains National Park            85\n"
     ]
    }
   ],
   "source": [
    "species = pd.read_csv(\"species_info.csv\")\n",
    "\n",
    "observations = pd.read_csv(\"observations.csv\")\n",
    "\n",
    "print(species.head())\n",
    "\n",
    "print(observations.head())"
   ]
  },
  {
   "cell_type": "markdown",
   "metadata": {},
   "source": [
    "### Key Data Characteristics\n",
    "\n",
    "We being exploring our data by finding the key data characteristics such as the total number of rows and columns in the two 'DataFrames'."
   ]
  },
  {
   "cell_type": "code",
   "execution_count": 12,
   "metadata": {},
   "outputs": [
    {
     "name": "stdout",
     "output_type": "stream",
     "text": [
      "Species Shape: (5824, 4)\n",
      "Observations shape: (23296, 3)\n"
     ]
    }
   ],
   "source": [
    "print(f\"Species Shape: {species.shape}\")\n",
    "\n",
    "print(f\"Observations shape: {observations.shape}\")"
   ]
  },
  {
   "cell_type": "markdown",
   "metadata": {},
   "source": [
    "## Exploratory Data Analysis\n",
    "\n",
    "We now move to exploring our data in more depth. We will first look into the number of unique observations for each variable and their data types."
   ]
  }
 ],
 "metadata": {
  "kernelspec": {
   "display_name": "Python 3 (ipykernel)",
   "language": "python",
   "name": "python3"
  },
  "language_info": {
   "codemirror_mode": {
    "name": "ipython",
    "version": 3
   },
   "file_extension": ".py",
   "mimetype": "text/x-python",
   "name": "python",
   "nbconvert_exporter": "python",
   "pygments_lexer": "ipython3",
   "version": "3.11.7"
  }
 },
 "nbformat": 4,
 "nbformat_minor": 4
}
